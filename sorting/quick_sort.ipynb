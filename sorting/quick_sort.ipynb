{
 "cells": [
  {
   "cell_type": "code",
   "execution_count": 14,
   "metadata": {},
   "outputs": [
    {
     "name": "stdout",
     "output_type": "stream",
     "text": [
      "Befor quick sort \n",
      " [4, 6, 2, 5, 7, 9, 1, 3]\n",
      "After quicksort\n"
     ]
    },
    {
     "data": {
      "text/plain": [
       "[1, 2, 3, 4, 5, 6, 7, 9]"
      ]
     },
     "execution_count": 14,
     "metadata": {},
     "output_type": "execute_result"
    }
   ],
   "source": [
    "def partition(arr,low,high):\n",
    "    pivot = arr[low]\n",
    "    i = low\n",
    "    j = high\n",
    "    while(i<j):\n",
    "        while arr[i]<=pivot and i<= high-1:\n",
    "            i+=1\n",
    "        while arr[j]>pivot and j >=low+1:\n",
    "            j-=1\n",
    "        if i <j:\n",
    "            arr[i],arr[j] = arr[j] ,arr[i]\n",
    "    arr[low], arr[j] = arr[j] , arr[low]\n",
    "    return j\n",
    "\n",
    "def qs(arr,low,high):\n",
    "    if low < high:\n",
    "        pIndex = partition(arr,low,high)\n",
    "        qs(arr,low,pIndex-1)\n",
    "        qs(arr,pIndex+1,high)\n",
    "\n",
    "\n",
    "def quick_sort(arr):\n",
    "    qs(arr,0 , len(arr)-1)\n",
    "    return arr\n",
    "\n",
    "arr = [4,6,2,5,7,9,1,3]\n",
    "print(f\"Befor quick sort \\n {arr}\",end=\"\\n\")\n",
    "\n",
    "\n",
    "\n",
    "print(\"After quicksort\")\n",
    "quick_sort(arr)"
   ]
  },
  {
   "cell_type": "code",
   "execution_count": null,
   "metadata": {},
   "outputs": [],
   "source": []
  },
  {
   "cell_type": "code",
   "execution_count": null,
   "metadata": {},
   "outputs": [],
   "source": []
  }
 ],
 "metadata": {
  "kernelspec": {
   "display_name": "Python 3",
   "language": "python",
   "name": "python3"
  },
  "language_info": {
   "codemirror_mode": {
    "name": "ipython",
    "version": 3
   },
   "file_extension": ".py",
   "mimetype": "text/x-python",
   "name": "python",
   "nbconvert_exporter": "python",
   "pygments_lexer": "ipython3",
   "version": "3.8.10"
  }
 },
 "nbformat": 4,
 "nbformat_minor": 2
}
