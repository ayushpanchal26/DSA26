{
 "cells": [
  {
   "cell_type": "code",
   "execution_count": 7,
   "metadata": {},
   "outputs": [],
   "source": [
    "def bubble(arr,n):\n",
    "    print(\"Befor bubble sort\")\n",
    "    print(f\"{arr}\\n\")\n",
    "    didswap = 0\n",
    "    for i in range(n,-1,-1):\n",
    "        for j in range(0,i-1):\n",
    "            if arr[j]>arr[j+1]:\n",
    "                arr[j],arr[j+1] = arr[j+1] , arr[j]\n",
    "                didswap = 1\n",
    "\n",
    "        if didswap ==0:\n",
    "            break\n",
    "        print('These line only runs when array is not sorted')\n",
    "    print(\"After bubble sort\")\n",
    "    return arr\n"
   ]
  },
  {
   "cell_type": "code",
   "execution_count": 8,
   "metadata": {},
   "outputs": [
    {
     "name": "stdout",
     "output_type": "stream",
     "text": [
      "Befor bubble sort\n",
      "[5, 4, 3, 2, 1]\n",
      "\n",
      "These line only runs when array is not already sorted\n",
      "These line only runs when array is not already sorted\n",
      "These line only runs when array is not already sorted\n",
      "These line only runs when array is not already sorted\n",
      "These line only runs when array is not already sorted\n",
      "These line only runs when array is not already sorted\n",
      "After bubble sort\n"
     ]
    },
    {
     "data": {
      "text/plain": [
       "[1, 2, 3, 4, 5]"
      ]
     },
     "execution_count": 8,
     "metadata": {},
     "output_type": "execute_result"
    }
   ],
   "source": [
    "array = [5,4,3,2,1]\n",
    "bubble(array,len(array))"
   ]
  },
  {
   "cell_type": "code",
   "execution_count": 9,
   "metadata": {},
   "outputs": [
    {
     "name": "stdout",
     "output_type": "stream",
     "text": [
      "Befor bubble sort\n",
      "[1, 2, 3, 4, 5]\n",
      "\n",
      "After bubble sort\n"
     ]
    },
    {
     "data": {
      "text/plain": [
       "[1, 2, 3, 4, 5]"
      ]
     },
     "execution_count": 9,
     "metadata": {},
     "output_type": "execute_result"
    }
   ],
   "source": [
    "arr = [1,2,3,4,5]\n",
    "bubble(arr,len(arr))\n"
   ]
  },
  {
   "cell_type": "code",
   "execution_count": null,
   "metadata": {},
   "outputs": [],
   "source": []
  }
 ],
 "metadata": {
  "kernelspec": {
   "display_name": "Python 3",
   "language": "python",
   "name": "python3"
  },
  "language_info": {
   "codemirror_mode": {
    "name": "ipython",
    "version": 3
   },
   "file_extension": ".py",
   "mimetype": "text/x-python",
   "name": "python",
   "nbconvert_exporter": "python",
   "pygments_lexer": "ipython3",
   "version": "3.8.10"
  }
 },
 "nbformat": 4,
 "nbformat_minor": 2
}
