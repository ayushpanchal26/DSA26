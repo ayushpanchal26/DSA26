{
 "cells": [
  {
   "cell_type": "code",
   "execution_count": 20,
   "metadata": {},
   "outputs": [
    {
     "name": "stdout",
     "output_type": "stream",
     "text": [
      "9 13 20 24 46 52 "
     ]
    }
   ],
   "source": [
    "def selection(arr,n):\n",
    "    for i in range(0,n-1):\n",
    "        min_index = i\n",
    "        for j in range(i,n):\n",
    "            if arr[j]<arr[min_index]:\n",
    "                min_index = j\n",
    "            \n",
    "        # swap\n",
    "        temp = arr[min_index]\n",
    "        arr[min_index] = arr[i]\n",
    "        arr[i] = temp\n",
    "\n",
    "    return \n",
    "arr = [13,46,24,52,20,9]\n",
    "n = len(arr)\n",
    "selection(arr,n)\n",
    "\n",
    "for i in arr:\n",
    "    print(i,end=' ')"
   ]
  },
  {
   "cell_type": "code",
   "execution_count": null,
   "metadata": {},
   "outputs": [],
   "source": []
  },
  {
   "cell_type": "code",
   "execution_count": null,
   "metadata": {},
   "outputs": [],
   "source": []
  }
 ],
 "metadata": {
  "kernelspec": {
   "display_name": "Python 3",
   "language": "python",
   "name": "python3"
  },
  "language_info": {
   "codemirror_mode": {
    "name": "ipython",
    "version": 3
   },
   "file_extension": ".py",
   "mimetype": "text/x-python",
   "name": "python",
   "nbconvert_exporter": "python",
   "pygments_lexer": "ipython3",
   "version": "3.8.10"
  }
 },
 "nbformat": 4,
 "nbformat_minor": 2
}
