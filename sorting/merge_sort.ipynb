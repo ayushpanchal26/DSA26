{
 "cells": [
  {
   "cell_type": "code",
   "execution_count": 8,
   "metadata": {},
   "outputs": [
    {
     "name": "stdout",
     "output_type": "stream",
     "text": [
      "Before Sorting Array:\n",
      "[2, 4, 5, 6, 4, 2, 2, 4, 4, 6]\n",
      "After Sorting Array:\n",
      "[2, 2, 2, 4, 4, 4, 4, 5, 6, 6]\n"
     ]
    }
   ],
   "source": [
    "def merge(arr, low, mid, high):\n",
    "    temp = []\n",
    "    left = low\n",
    "    right = mid + 1\n",
    "\n",
    "    while left <= mid and right <= high:\n",
    "        if arr[left] <= arr[right]:\n",
    "            temp.append(arr[left])\n",
    "            left += 1\n",
    "        else:\n",
    "            temp.append(arr[right])\n",
    "            right += 1\n",
    "\n",
    "    while left <= mid:\n",
    "        temp.append(arr[left])\n",
    "        left += 1\n",
    "\n",
    "    while right <= high:\n",
    "        temp.append(arr[right])\n",
    "        right += 1\n",
    "\n",
    "    for i in range(low, high + 1):\n",
    "        arr[i] = temp[i - low]\n",
    "\n",
    "def mergeSort(arr, low, high):\n",
    "    if low >= high:\n",
    "        return\n",
    "    mid = (low + high) // 2\n",
    "    mergeSort(arr, low, mid)\n",
    "    mergeSort(arr, mid + 1, high)\n",
    "    merge(arr, low, mid, high)\n",
    "\n",
    "\n",
    "arr = [2,4,5,6,4,2,2,4,4,6]\n",
    "n = len(arr)\n",
    "\n",
    "print(\"Before Sorting Array:\")\n",
    "print(arr)\n",
    "\n",
    "mergeSort(arr, 0, n - 1)\n",
    "\n",
    "print(\"After Sorting Array:\")\n",
    "print(arr)\n"
   ]
  },
  {
   "cell_type": "code",
   "execution_count": 14,
   "metadata": {},
   "outputs": [
    {
     "name": "stdout",
     "output_type": "stream",
     "text": [
      "[2, 2, 2, 4, 4, 4, 4, 5, 6, 6]\n"
     ]
    }
   ],
   "source": [
    "def merge(arr,low,mid,high):\n",
    "    temp = []\n",
    "    left = low\n",
    "    right = mid+1\n",
    "    while left<=mid and right<=high:\n",
    "        if arr[left]<=arr[right]:\n",
    "            temp.append(arr[left])\n",
    "            left+=1\n",
    "        else:\n",
    "            temp.append(arr[right])\n",
    "            right +=1\n",
    "\n",
    "    while left<=mid:\n",
    "        temp.append(arr[left])\n",
    "        left+=1\n",
    "\n",
    "    while right<=high:\n",
    "        temp.append(arr[right])\n",
    "        right+=1\n",
    "\n",
    "    for i in range(low,high+1):\n",
    "        arr[i] = temp[i-low]\n",
    "\n",
    "\n",
    "\n",
    "def mergesort(arr, low, high):\n",
    "    if low>=high:\n",
    "        return\n",
    "    mid = (low + high)//2\n",
    "    mergesort(arr, low , mid)\n",
    "    mergesort(arr,mid+1,high)\n",
    "    merge(arr,low,mid,high)\n",
    "   \n",
    "    \n",
    "\n",
    "arr = [2,4,5,6,4,2,2,4,4,6]\n",
    "n = len(arr)\n",
    "mergesort(arr,0,n-1)\n",
    "print(arr)"
   ]
  }
 ],
 "metadata": {
  "kernelspec": {
   "display_name": "Python 3",
   "language": "python",
   "name": "python3"
  },
  "language_info": {
   "codemirror_mode": {
    "name": "ipython",
    "version": 3
   },
   "file_extension": ".py",
   "mimetype": "text/x-python",
   "name": "python",
   "nbconvert_exporter": "python",
   "pygments_lexer": "ipython3",
   "version": "3.8.10"
  }
 },
 "nbformat": 4,
 "nbformat_minor": 2
}
