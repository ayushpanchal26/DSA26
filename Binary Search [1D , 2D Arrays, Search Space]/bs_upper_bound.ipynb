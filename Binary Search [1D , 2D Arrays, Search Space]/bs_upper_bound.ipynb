{
 "cells": [
  {
   "cell_type": "code",
   "execution_count": 21,
   "metadata": {},
   "outputs": [],
   "source": [
    "# # brutforce approach\n",
    "def upper_bound(arr,n,x):\n",
    "    for i in range(n):\n",
    "        if arr[i] > x:\n",
    "            return i \n",
    "    return n"
   ]
  },
  {
   "cell_type": "code",
   "execution_count": 24,
   "metadata": {},
   "outputs": [],
   "source": [
    "def upper_bound(arr,n,x):\n",
    "    low = 0 \n",
    "    high = n-1\n",
    "    ans = -1\n",
    "\n",
    "    while low<=high:\n",
    "        mid = (low+high)//2\n",
    "\n",
    "        if arr[mid] >x:\n",
    "            ans = mid\n",
    "            high = mid -1\n",
    "        else:\n",
    "            low = mid +1\n",
    "    return ans"
   ]
  },
  {
   "cell_type": "code",
   "execution_count": 25,
   "metadata": {},
   "outputs": [
    {
     "name": "stdout",
     "output_type": "stream",
     "text": [
      "0\n"
     ]
    }
   ],
   "source": [
    "arr = [12,13,14,15,16]\n",
    "n= len(arr)\n",
    "print(upper_bound(arr,n,2))"
   ]
  },
  {
   "cell_type": "code",
   "execution_count": null,
   "metadata": {},
   "outputs": [],
   "source": []
  },
  {
   "cell_type": "code",
   "execution_count": null,
   "metadata": {},
   "outputs": [],
   "source": []
  }
 ],
 "metadata": {
  "kernelspec": {
   "display_name": "Python 3",
   "language": "python",
   "name": "python3"
  },
  "language_info": {
   "codemirror_mode": {
    "name": "ipython",
    "version": 3
   },
   "file_extension": ".py",
   "mimetype": "text/x-python",
   "name": "python",
   "nbconvert_exporter": "python",
   "pygments_lexer": "ipython3",
   "version": "3.8.10"
  }
 },
 "nbformat": 4,
 "nbformat_minor": 2
}
