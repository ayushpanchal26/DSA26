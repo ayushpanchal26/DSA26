{
 "cells": [
  {
   "cell_type": "code",
   "execution_count": 1,
   "metadata": {},
   "outputs": [],
   "source": [
    "def binary_search(self,nums,low,high,target):\n",
    "        if low>high:\n",
    "            return -1 \n",
    "        mid = (low+high)//1\n",
    "        if target == nums[mid]:\n",
    "            return mid\n",
    "        elif target>nums[mid]:\n",
    "            return self.binary_search(nums,mid+1,high,target)\n",
    "        return self.binary_search(nums,low,mid-1,target)\n",
    "def search(self, nums, target):\n",
    "        \"\"\"\n",
    "        :type nums: List[int]\n",
    "        :type target: int\n",
    "        :rtype: int\n",
    "        \"\"\"\n",
    "        return self.binary_search(nums,0 , len(nums)-1,target)"
   ]
  },
  {
   "cell_type": "code",
   "execution_count": null,
   "metadata": {},
   "outputs": [],
   "source": []
  }
 ],
 "metadata": {
  "kernelspec": {
   "display_name": "Python 3",
   "language": "python",
   "name": "python3"
  },
  "language_info": {
   "codemirror_mode": {
    "name": "ipython",
    "version": 3
   },
   "file_extension": ".py",
   "mimetype": "text/x-python",
   "name": "python",
   "nbconvert_exporter": "python",
   "pygments_lexer": "ipython3",
   "version": "3.8.10"
  }
 },
 "nbformat": 4,
 "nbformat_minor": 2
}
