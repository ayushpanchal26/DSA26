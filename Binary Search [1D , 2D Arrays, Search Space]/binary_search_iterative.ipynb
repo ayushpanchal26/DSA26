{
 "cells": [
  {
   "cell_type": "code",
   "execution_count": 6,
   "metadata": {},
   "outputs": [
    {
     "name": "stdout",
     "output_type": "stream",
     "text": [
      "Number is present at index  2\n"
     ]
    }
   ],
   "source": [
    "def binary_search(nums,target):\n",
    "    n = len(nums)\n",
    "    low = 0\n",
    "    high = n-1\n",
    "\n",
    "    while low<=high:\n",
    "        mid = (low+high)//2\n",
    "        \n",
    "        if nums[mid]==target:\n",
    "            return mid\n",
    "        elif target>nums[mid]:\n",
    "            low = mid+1\n",
    "        else:\n",
    "            high = mid - 1\n",
    "    return -1 \n",
    "\n",
    "a = [3,4,6,7,9,12,16,17]\n",
    "target = 6\n",
    "ind = binary_search(a,target)\n",
    "if ind == -1:\n",
    "    print(\"Not Present\")\n",
    "else:\n",
    "    print(\"Number is present at index \",ind)"
   ]
  },
  {
   "cell_type": "code",
   "execution_count": null,
   "metadata": {},
   "outputs": [],
   "source": []
  }
 ],
 "metadata": {
  "kernelspec": {
   "display_name": "Python 3",
   "language": "python",
   "name": "python3"
  },
  "language_info": {
   "codemirror_mode": {
    "name": "ipython",
    "version": 3
   },
   "file_extension": ".py",
   "mimetype": "text/x-python",
   "name": "python",
   "nbconvert_exporter": "python",
   "pygments_lexer": "ipython3",
   "version": "3.8.10"
  }
 },
 "nbformat": 4,
 "nbformat_minor": 2
}
