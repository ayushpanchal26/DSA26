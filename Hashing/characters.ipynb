{
 "cells": [
  {
   "cell_type": "code",
   "execution_count": 1,
   "metadata": {},
   "outputs": [],
   "source": [
    "# brutforce method\n",
    "def func(c,string):\n",
    "    cnt = 0 \n",
    "    for i in range(n):\n",
    "        if string[i]==c:\n",
    "            cnt+=1\n",
    "    return cnt"
   ]
  },
  {
   "cell_type": "code",
   "execution_count": 3,
   "metadata": {},
   "outputs": [
    {
     "name": "stdout",
     "output_type": "stream",
     "text": [
      "1\n",
      "1\n",
      "0\n"
     ]
    }
   ],
   "source": [
    "# hashing for either lowercase or uppercase\n",
    "s = input(\"Enter string:\")\n",
    "hash = [0]*26\n",
    "for i in s:\n",
    "    hash[ord(i)- ord('a')]+=1\n",
    "\n",
    "q = int(input(\"Enter queries size:\"))\n",
    "for _ in range(q):\n",
    "    c = input().strip()\n",
    "    print(hash[ord(c)-ord('a')])"
   ]
  },
  {
   "cell_type": "code",
   "execution_count": 12,
   "metadata": {},
   "outputs": [],
   "source": [
    "# hashing if both lower case and upper case present \n",
    "s = input(\"Enter string\")\n",
    "hash = [0]*256\n",
    "for i in s:\n",
    "    hash[ord(i)]+=1\n",
    "\n",
    "q = int(input(\"Enter quereis size:\"))\n",
    "for _ in range(q):\n",
    "    c = input().strip()\n",
    "    print(hash[ord(c)-ord('a')])"
   ]
  },
  {
   "cell_type": "code",
   "execution_count": 13,
   "metadata": {},
   "outputs": [
    {
     "data": {
      "text/plain": [
       "1"
      ]
     },
     "execution_count": 13,
     "metadata": {},
     "output_type": "execute_result"
    }
   ],
   "source": [
    "hash[65]"
   ]
  },
  {
   "cell_type": "code",
   "execution_count": 18,
   "metadata": {},
   "outputs": [
    {
     "name": "stdout",
     "output_type": "stream",
     "text": [
      "1 1 1 1 1\n"
     ]
    }
   ],
   "source": [
    "print(hash[65],hash[89],hash[85],hash[83],hash[72])"
   ]
  },
  {
   "cell_type": "code",
   "execution_count": null,
   "metadata": {},
   "outputs": [],
   "source": []
  }
 ],
 "metadata": {
  "kernelspec": {
   "display_name": "Python 3",
   "language": "python",
   "name": "python3"
  },
  "language_info": {
   "codemirror_mode": {
    "name": "ipython",
    "version": 3
   },
   "file_extension": ".py",
   "mimetype": "text/x-python",
   "name": "python",
   "nbconvert_exporter": "python",
   "pygments_lexer": "ipython3",
   "version": "3.8.10"
  }
 },
 "nbformat": 4,
 "nbformat_minor": 2
}
