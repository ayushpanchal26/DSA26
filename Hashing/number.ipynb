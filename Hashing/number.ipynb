{
 "cells": [
  {
   "cell_type": "code",
   "execution_count": 32,
   "metadata": {},
   "outputs": [
    {
     "data": {
      "text/plain": [
       "2"
      ]
     },
     "execution_count": 32,
     "metadata": {},
     "output_type": "execute_result"
    }
   ],
   "source": [
    "# Brut force approach\n",
    "def func(num,a):\n",
    "    count = 0 \n",
    "    for i in range(len(a)):\n",
    "        if a[i] == num:\n",
    "            count+=1\n",
    "    return count\n",
    "\n",
    "func(2,[1,2,3,4,2])"
   ]
  },
  {
   "cell_type": "code",
   "execution_count": 27,
   "metadata": {},
   "outputs": [
    {
     "name": "stdout",
     "output_type": "stream",
     "text": [
      "Query is 2 times\n",
      "Query is 0 times\n"
     ]
    }
   ],
   "source": [
    "n = int(input(\"Enter size of array:-\"))\n",
    "arr = list(map(int,input(\"Enter space seprated elements-\").split()))\n",
    "hash_table = [0]*13\n",
    "for num in arr:\n",
    "    hash_table[num]+=1\n",
    "\n",
    "q = int(input(\"Enter number of queries:-\"))\n",
    "for i in range(q):\n",
    "    number= int(input(\"Enter the query:-\"))\n",
    "    print(f\"Query is {hash_table[number]} times\")"
   ]
  },
  {
   "cell_type": "code",
   "execution_count": null,
   "metadata": {},
   "outputs": [],
   "source": []
  }
 ],
 "metadata": {
  "kernelspec": {
   "display_name": "Python 3",
   "language": "python",
   "name": "python3"
  },
  "language_info": {
   "codemirror_mode": {
    "name": "ipython",
    "version": 3
   },
   "file_extension": ".py",
   "mimetype": "text/x-python",
   "name": "python",
   "nbconvert_exporter": "python",
   "pygments_lexer": "ipython3",
   "version": "3.8.10"
  }
 },
 "nbformat": 4,
 "nbformat_minor": 2
}
