{
 "cells": [
  {
   "cell_type": "code",
   "execution_count": 2,
   "metadata": {},
   "outputs": [
    {
     "name": "stdout",
     "output_type": "stream",
     "text": [
      "10 3\n",
      "5 2\n",
      "15 1\n"
     ]
    }
   ],
   "source": [
    "# BrutForce Approach\n",
    "def frequency(arr,n):\n",
    "    visited = [False]*n\n",
    "    for i in range(n):\n",
    "        if visited[i] == True:\n",
    "            continue\n",
    "        count = 1\n",
    "        for j in range(i+1,n):\n",
    "            if arr[i] == arr[j]:\n",
    "                visited[j]=True\n",
    "                count+=1\n",
    "        print(arr[i],count)\n",
    "\n",
    "arr = [10,5,10,15,10,5]\n",
    "frequency(arr,len(arr))"
   ]
  },
  {
   "cell_type": "code",
   "execution_count": 3,
   "metadata": {},
   "outputs": [
    {
     "name": "stdout",
     "output_type": "stream",
     "text": [
      "10 3\n",
      "5 2\n",
      "15 1\n"
     ]
    }
   ],
   "source": [
    "# using map \n",
    "def frequency_map(arr,n):\n",
    "    mp = {}\n",
    "    for i in range(n):\n",
    "        if arr[i] in mp:\n",
    "            mp[arr[i]] +=1\n",
    "        else:\n",
    "            mp[arr[i]] = 1\n",
    "\n",
    "    for j in mp:\n",
    "        print(j,mp[j])\n",
    "\n",
    "\n",
    "arr = [10,5,10,15,10,5]\n",
    "frequency_map(arr,len(arr))"
   ]
  },
  {
   "cell_type": "code",
   "execution_count": null,
   "metadata": {},
   "outputs": [],
   "source": []
  }
 ],
 "metadata": {
  "kernelspec": {
   "display_name": "Python 3",
   "language": "python",
   "name": "python3"
  },
  "language_info": {
   "codemirror_mode": {
    "name": "ipython",
    "version": 3
   },
   "file_extension": ".py",
   "mimetype": "text/x-python",
   "name": "python",
   "nbconvert_exporter": "python",
   "pygments_lexer": "ipython3",
   "version": "3.8.10"
  }
 },
 "nbformat": 4,
 "nbformat_minor": 2
}
