{
 "cells": [
  {
   "cell_type": "code",
   "execution_count": 5,
   "metadata": {},
   "outputs": [],
   "source": [
    "# brutforce method\n",
    "def frequency_l_h(arr,n):\n",
    "    max_f,max_el  = 0,0\n",
    "    min_f ,min_el= n,0\n",
    "\n",
    "\n",
    "    visited = [False]*n\n",
    "    for i in range(n):\n",
    "        if visited[i]==True:\n",
    "            continue\n",
    "        count = 1\n",
    "        for j in range(i+1,n):\n",
    "            if arr[i]==arr[j]:\n",
    "                visited[j]==True\n",
    "                count+=1\n",
    "        \n",
    "        if count>max_f:\n",
    "            max_el = arr[i]\n",
    "            max_f = count\n",
    "\n",
    "        if count<min_f:\n",
    "            min_el = arr[i]\n",
    "            min_f = count\n",
    "    print(max_el,min_el)"
   ]
  },
  {
   "cell_type": "code",
   "execution_count": 6,
   "metadata": {},
   "outputs": [
    {
     "name": "stdout",
     "output_type": "stream",
     "text": [
      "10 15\n"
     ]
    }
   ],
   "source": [
    "arr = [10, 5, 10, 15, 10, 5]\n",
    "frequency_l_h(arr,len(arr))"
   ]
  },
  {
   "cell_type": "code",
   "execution_count": 14,
   "metadata": {},
   "outputs": [],
   "source": [
    "# hash map method\n",
    "def frequency(arr,n):\n",
    "    mp = {}\n",
    "\n",
    "    for i in arr:\n",
    "        if i in mp:\n",
    "            mp[i] += 1\n",
    "        else:\n",
    "            mp[i] = 1\n",
    "\n",
    "    max_freq = 0\n",
    "    min_freq = n\n",
    "    max_ele = None\n",
    "    min_ele = None\n",
    "\n",
    "    for element, count in mp.items():\n",
    "        if count > max_freq:\n",
    "            max_ele = element\n",
    "            max_freq = count\n",
    "        if count < min_freq:\n",
    "            min_ele = element\n",
    "            min_freq = count\n",
    "\n",
    "    print(f\"The highest frequency element is: {max_ele}\")\n",
    "    print(f\"The lowest frequency element is: {min_ele}\")"
   ]
  },
  {
   "cell_type": "code",
   "execution_count": 15,
   "metadata": {},
   "outputs": [
    {
     "name": "stdout",
     "output_type": "stream",
     "text": [
      "The highest frequency element is: 10\n",
      "The lowest frequency element is: 15\n"
     ]
    }
   ],
   "source": [
    "arr = [10, 5, 10, 15, 10, 5]\n",
    "frequency(arr)"
   ]
  },
  {
   "cell_type": "code",
   "execution_count": null,
   "metadata": {},
   "outputs": [],
   "source": []
  }
 ],
 "metadata": {
  "kernelspec": {
   "display_name": "Python 3",
   "language": "python",
   "name": "python3"
  },
  "language_info": {
   "codemirror_mode": {
    "name": "ipython",
    "version": 3
   },
   "file_extension": ".py",
   "mimetype": "text/x-python",
   "name": "python",
   "nbconvert_exporter": "python",
   "pygments_lexer": "ipython3",
   "version": "3.8.10"
  }
 },
 "nbformat": 4,
 "nbformat_minor": 2
}
