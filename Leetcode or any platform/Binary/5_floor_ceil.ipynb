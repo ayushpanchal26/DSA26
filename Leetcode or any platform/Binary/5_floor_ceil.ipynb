{
 "cells": [
  {
   "cell_type": "code",
   "execution_count": null,
   "metadata": {},
   "outputs": [],
   "source": [
    "def getFloorAndCeil(a, n, x):\n",
    "    # Write your code here.\n",
    "    high = n-1\n",
    "    low = 0\n",
    "    ans = n\n",
    "    floors = -1\n",
    "    ceil = -1\n",
    "    while low<=high:\n",
    "        mid = (low+high)//2\n",
    "        if a[mid] ==x:\n",
    "            return a[mid], a[mid]\n",
    "\n",
    "        if a[mid]<x:\n",
    "            floors = a[mid]\n",
    "            low = mid + 1\n",
    "        else:\n",
    "            ceil = a[mid]\n",
    "            high = mid -1\n",
    "    return floors,ceil"
   ]
  }
 ],
 "metadata": {
  "kernelspec": {
   "display_name": "Python 3",
   "language": "python",
   "name": "python3"
  },
  "language_info": {
   "codemirror_mode": {
    "name": "ipython",
    "version": 3
   },
   "file_extension": ".py",
   "mimetype": "text/x-python",
   "name": "python",
   "nbconvert_exporter": "python",
   "pygments_lexer": "ipython3",
   "version": "3.8.10"
  }
 },
 "nbformat": 4,
 "nbformat_minor": 2
}
